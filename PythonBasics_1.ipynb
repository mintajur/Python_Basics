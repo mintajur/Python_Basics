{
  "nbformat": 4,
  "nbformat_minor": 0,
  "metadata": {
    "colab": {
      "provenance": [],
      "toc_visible": true
    },
    "kernelspec": {
      "name": "python3",
      "display_name": "Python 3"
    },
    "language_info": {
      "name": "python"
    }
  },
  "cells": [
    {
      "cell_type": "markdown",
      "source": [
        "#Basic Programming Sysntax and Operations"
      ],
      "metadata": {
        "id": "8URwQ30kKKe8"
      }
    },
    {
      "cell_type": "markdown",
      "source": [
        "**Number Representation in Integer and Float and showing their types**"
      ],
      "metadata": {
        "id": "eFf1FYdWK_5E"
      }
    },
    {
      "cell_type": "code",
      "execution_count": 24,
      "metadata": {
        "colab": {
          "base_uri": "https://localhost:8080/"
        },
        "id": "B1S2I5_I-swK",
        "outputId": "f779523f-9dab-491c-8872-1594d65d1843"
      },
      "outputs": [
        {
          "output_type": "stream",
          "name": "stdout",
          "text": [
            "<class 'int'>\n",
            "50\n",
            "51\n",
            "49\n",
            "100\n",
            "2500\n",
            "51\n",
            "102\n",
            "<class 'float'>\n",
            "10.5 11.5 21.0 110.25\n"
          ]
        }
      ],
      "source": [
        "a = 50\n",
        "print(type(a)) # Prints \"class type\"\n",
        "print(a)       # Prints \"50\"\n",
        "print(a + 1)   # Addition; prints \"51\"\n",
        "print(a - 1)   # Subtraction; prints \"49\"\n",
        "print(a * 2)   # Multiplication; prints \"100\"\n",
        "print(a ** 2)  # Exponentiation; prints \"2500\"\n",
        "\n",
        "a += 1\n",
        "print(a)  # Prints \"51\"\n",
        "a *= 2\n",
        "print(a)  # Prints \"102\"\n",
        "b = 10.5\n",
        "print(type(b)) # Prints \"class type\"\n",
        "print(b, b + 1, b * 2, b ** 2) # Prints \"10.5 11.5 21.0 110.25\""
      ]
    },
    {
      "cell_type": "markdown",
      "source": [
        "**Boolean Operation and Type Representation**"
      ],
      "metadata": {
        "id": "_uJkWrrpLiji"
      }
    },
    {
      "cell_type": "code",
      "source": [
        "T = True\n",
        "F = False\n",
        "print(type(T)) # Prints class type\n",
        "print(T and F) # Logical AND; prints \"False\"\n",
        "print(T or F)  # Logical OR; prints \"True\"\n",
        "print(not T)   # Logical NOT; prints \"False\"\n",
        "print(T != F)  # Logical XOR; prints \"True\""
      ],
      "metadata": {
        "colab": {
          "base_uri": "https://localhost:8080/"
        },
        "id": "ZATna8X-C2Hz",
        "outputId": "73b30966-e487-41e5-b8db-f7633abb219c"
      },
      "execution_count": 4,
      "outputs": [
        {
          "output_type": "stream",
          "name": "stdout",
          "text": [
            "<class 'bool'>\n",
            "False\n",
            "True\n",
            "False\n",
            "True\n"
          ]
        }
      ]
    },
    {
      "cell_type": "markdown",
      "source": [
        "**Different Ways to Print String**"
      ],
      "metadata": {
        "id": "lnk8M44AL5mi"
      }
    },
    {
      "cell_type": "code",
      "source": [
        "#Printing String using double quotation \" \"\n",
        "print(\"Hello World\")\n",
        "\n",
        "\n",
        "\n",
        "#Printing String using single quotation \" \"\n",
        "print('Hello World')\n",
        "\n",
        "\n",
        "\n",
        "#Printing String in multiple lines using 3 quotation \"\"\"\n",
        "print(\"\"\"Hello\n",
        "World\n",
        "In\n",
        "Multiple\n",
        "Lines\n",
        "\"\"\")\n",
        "\n",
        "\n",
        "\n",
        "#Printing String with numeric value by performing concatenation\n",
        "X = 1000\n",
        "print(f'The value of X is {X}')\n",
        "\n",
        "\n",
        "\n",
        "#Printing String with numeric value by performing concatenation and doing computation with the numeric value\n",
        "X = 1000\n",
        "print(f'The value of X plus 50 is {X+50}')\n",
        "\n",
        "\n",
        "\n",
        "#Different formats to print a String\n",
        "X = 1000\n",
        "print(f'The value of X is {X}')\n",
        "print('The value of X is {}'.format(X))\n",
        "print('The value of X is ' + str(X))\n",
        "print('The value of X is %d %d' % (X, X))"
      ],
      "metadata": {
        "colab": {
          "base_uri": "https://localhost:8080/"
        },
        "id": "O_zVPqPWDL3h",
        "outputId": "90590314-3543-4e02-8847-dac65fc4672d"
      },
      "execution_count": 17,
      "outputs": [
        {
          "output_type": "stream",
          "name": "stdout",
          "text": [
            "Hello World\n",
            "Hello World\n",
            "Hello \n",
            "World\n",
            "In\n",
            "Multiple\n",
            "Lines\n",
            "\n",
            "The value of X is 1000\n",
            "The value of X plus 50 is 1050\n",
            "The value of X is 1000\n",
            "The value of X is 1000\n",
            "The value of X is 1000\n",
            "The value of X is 1000 1000\n"
          ]
        }
      ]
    },
    {
      "cell_type": "markdown",
      "source": [
        "**Conditional Statements**"
      ],
      "metadata": {
        "id": "gT9q_afzMK9S"
      }
    },
    {
      "cell_type": "code",
      "source": [
        "x = 100\n",
        "y = 200\n",
        "\n",
        "if x==100:\n",
        "    print('The value of the variable x is 100')\n",
        "    if y==200:\n",
        "        print('The value of the variable y is 200')\n",
        "elif x==200:\n",
        "    print('The value of the variable x is 200')\n",
        "else:\n",
        "    print('Nothing to print')"
      ],
      "metadata": {
        "colab": {
          "base_uri": "https://localhost:8080/"
        },
        "id": "LAHJgVM7ExI8",
        "outputId": "d03fb08a-e8a1-40a9-fe0c-b9ef1cabbd27"
      },
      "execution_count": 18,
      "outputs": [
        {
          "output_type": "stream",
          "name": "stdout",
          "text": [
            "The value of the variable x is 100\n",
            "The value of the variable y is 200\n"
          ]
        }
      ]
    },
    {
      "cell_type": "markdown",
      "source": [
        "**Different Ways to Represent Loop**"
      ],
      "metadata": {
        "id": "njpMqvDrMVOf"
      }
    },
    {
      "cell_type": "code",
      "source": [
        "#Simple way to write a for loop\n",
        "for a in range(0, 5):  # If you ever see xrange, you are in Python 2\n",
        "    print(a)\n",
        "\n",
        "\n",
        "\n",
        "# for loop where range(start (optional, default 0), end (exclusive), inc/dec (optional, default 1))\n",
        "for a in range(0,5,1):\n",
        "    print('Increment: ', a)\n",
        "\n",
        "\n",
        "\n",
        "# for loop where range(start (optional, default 0), end (exclusive), inc/dec (optional, default 1))\n",
        "for a in range(10,0,-1):\n",
        "    print('Decrement: ', a)\n",
        "\n",
        "\n",
        "#\n",
        "python = 0\n",
        "for x in range(0, 5):\n",
        "    print(f\"{python} + {x} =  \", end=\"\")\n",
        "    python += x\n",
        "    print(python)\n",
        "\n",
        "print(f\"Sum: {python}\")"
      ],
      "metadata": {
        "colab": {
          "base_uri": "https://localhost:8080/"
        },
        "id": "_pX0NTj1FugL",
        "outputId": "42fb55f8-1fb0-4802-87c4-6d12132f500a"
      },
      "execution_count": 23,
      "outputs": [
        {
          "output_type": "stream",
          "name": "stdout",
          "text": [
            "0\n",
            "1\n",
            "2\n",
            "3\n",
            "4\n",
            "Increment:  0\n",
            "Increment:  1\n",
            "Increment:  2\n",
            "Increment:  3\n",
            "Increment:  4\n",
            "Decrement:  10\n",
            "Decrement:  9\n",
            "Decrement:  8\n",
            "Decrement:  7\n",
            "Decrement:  6\n",
            "Decrement:  5\n",
            "Decrement:  4\n",
            "Decrement:  3\n",
            "Decrement:  2\n",
            "Decrement:  1\n",
            "0 + 0 =  0\n",
            "0 + 1 =  1\n",
            "1 + 2 =  3\n",
            "3 + 3 =  6\n",
            "6 + 4 =  10\n",
            "Sum: 10\n"
          ]
        }
      ]
    }
  ]
}